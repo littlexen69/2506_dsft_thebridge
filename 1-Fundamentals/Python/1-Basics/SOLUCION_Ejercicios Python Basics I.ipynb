{
 "cells": [
  {
   "attachments": {},
   "cell_type": "markdown",
   "metadata": {},
   "source": [
    "![imagen](./img/ejercicios.png)"
   ]
  },
  {
   "attachments": {},
   "cell_type": "markdown",
   "metadata": {},
   "source": [
    "# Ejercicios Python Basics I"
   ]
  },
  {
   "attachments": {},
   "cell_type": "markdown",
   "metadata": {},
   "source": [
    "## Ejercicio 1\n",
    "Imprime por pantalla esta cita con el siguiente formato\n",
    "\n",
    "![imagen](./img/frase_Einstein.PNG)"
   ]
  },
  {
   "cell_type": "code",
   "execution_count": null,
   "metadata": {},
   "outputs": [
    {
     "name": "stdout",
     "output_type": "stream",
     "text": [
      "¿Por qué esta magnífica tecnología científica,\n",
      "\tque ahorra trabajo y nos hace la vida mas fácil,\n",
      "\t\tnos aporta tan poca felicidad?\n",
      "\t\t\tLa repuesta es está, simplemente: porque aún no hemos aprendido a usarla con tino.\n",
      " \"Albert Einstein\" \n"
     ]
    }
   ],
   "source": [
    "print('¿Por qué esta magnífica tecnología científica,\\n\\tque ahorra trabajo y nos hace la vida mas fácil,\\n\\t\\tnos aporta tan poca felicidad?\\n\\t\\t\\tLa repuesta es está, simplemente: porque aún no hemos aprendido a usarla con tino.\\n \\\"Albert Einstein\\\" ')"
   ]
  },
  {
   "cell_type": "code",
   "execution_count": 5,
   "metadata": {},
   "outputs": [
    {
     "name": "stdout",
     "output_type": "stream",
     "text": [
      "¿Por qué esta magnífica tecnología científica,\n",
      "\tque ahorra trabajo y nos hace la vida mas fácil,\n",
      "\t\tnos aporta tan poca felicidad?\n",
      "\t\t\tLa repuesta es esta, simplemente: porque aún no hemos aprendido a usarla con tino.\n",
      " \"Albert Einstein\"\n"
     ]
    }
   ],
   "source": [
    "mensaje = \"\"\"¿Por qué esta magnífica tecnología científica,\n",
    "\tque ahorra trabajo y nos hace la vida mas fácil,\n",
    "\t\tnos aporta tan poca felicidad?\n",
    "\t\t\tLa repuesta es esta, simplemente: porque aún no hemos aprendido a usarla con tino.\n",
    " \"Albert Einstein\\\"\"\"\"\n",
    "\n",
    "print(mensaje)"
   ]
  },
  {
   "cell_type": "code",
   "execution_count": null,
   "metadata": {},
   "outputs": [
    {
     "name": "stdout",
     "output_type": "stream",
     "text": [
      "hola\n",
      "adiós\n",
      "hola, estoy imprimiendo\n",
      "la suma es 8\n",
      "[5, 3, 8]\n"
     ]
    }
   ],
   "source": [
    "print(\"\"\"hola\n",
    "adiós\"\"\")\n",
    "\n",
    "def suma(n: int,m: int) -> str| list:\n",
    "    print(\"hola, estoy imprimiendo\")\n",
    "\n",
    "    mi_suma = n + m\n",
    "    print(\"la suma es\", mi_suma)\n",
    "    \n",
    "    if n>2:\n",
    "        return [n,m,mi_suma]\n",
    "    else:\n",
    "        return \"ahora quiero devolver un string\"\n",
    "    \n",
    "print(suma(n=5,m=3)) # None  \n",
    "   \n",
    "    \n",
    "    \n"
   ]
  },
  {
   "attachments": {},
   "cell_type": "markdown",
   "metadata": {},
   "source": [
    "## Ejercicio 2\n",
    "1. Escribe el nombre de la calle de tu domicilio\n",
    "2. Escribe el numero de la calle en otra\n",
    "3. Población en una tercera\n",
    "4. Codigo postal en la cuarta variable\n",
    "5. Crea una quinta variable que concatene todas ellas\n",
    "6. Imprimela por pantalla"
   ]
  },
  {
   "cell_type": "code",
   "execution_count": 3,
   "metadata": {},
   "outputs": [
    {
     "name": "stdout",
     "output_type": "stream",
     "text": [
      "Castellana 24 Madrid 26774\n"
     ]
    }
   ],
   "source": [
    "nom_calle = \"Castellana\"\n",
    "num_calle = 24\n",
    "pobl = \"Madrid\"\n",
    "cp = 26774\n",
    "total = nom_calle + \" \" + str(num_calle) + \" \" + pobl + \" \" + str(cp)\n",
    "print(total)"
   ]
  },
  {
   "attachments": {},
   "cell_type": "markdown",
   "metadata": {},
   "source": [
    "## Ejercicio 3\n",
    "Replica el output del ejercicio dos, pero está vez sin usar una variable intermedia que concatene todas las demas. Realiza este ejercicio en una línea, con un  único `print`"
   ]
  },
  {
   "cell_type": "code",
   "execution_count": 4,
   "metadata": {},
   "outputs": [
    {
     "name": "stdout",
     "output_type": "stream",
     "text": [
      "Castellana 24 Madrid 26774\n"
     ]
    }
   ],
   "source": [
    "print(nom_calle, num_calle, pobl, cp)"
   ]
  },
  {
   "attachments": {},
   "cell_type": "markdown",
   "metadata": {},
   "source": [
    "## Ejercicio 4\n",
    "¿Qué variables están mal escritas y por qué? Realiza primero tu hipótesis y luego ejecuta las variables para comprobarlo. En ese orden :)\n",
    "\n",
    "\n",
    "1. mi_variable = \"Economía\"\n",
    "2. otra_var = \"Ejercicio\n",
    "3. True = \"Ejercicio\"\n",
    "4. mi variab1e = \"Alpha\"\n",
    "5. exec = True\n",
    "6. import = 40\n",
    "7. 81mi_variable = \"Agua\"\n",
    "8. mi_variable10 = 6"
   ]
  },
  {
   "cell_type": "code",
   "execution_count": 6,
   "metadata": {},
   "outputs": [
    {
     "data": {
      "text/plain": [
       "builtin_function_or_method"
      ]
     },
     "execution_count": 6,
     "metadata": {},
     "output_type": "execute_result"
    }
   ],
   "source": [
    "type(exec) "
   ]
  },
  {
   "attachments": {},
   "cell_type": "markdown",
   "metadata": {},
   "source": [
    "1. Esta bien\n",
    "2. Falta una comilla\n",
    "3. No puedo usar True\n",
    "4. Espacios en las variables no puedo\n",
    "5. Esta bien\n",
    "6. Palabra reservada\n",
    "7. No puedo poner numeros delante\n",
    "8. Esta bien"
   ]
  },
  {
   "attachments": {},
   "cell_type": "markdown",
   "metadata": {},
   "source": [
    "## Ejercicio 5\n",
    "Realiza un conversor de grados Celsius a Fahrenheit. El conversor tiene que recibir el input del usuario y devolver la conversión.\n",
    "\n",
    "La conversión de grados sigue la siguiente fórmula: F = (C × 9 / 5) + 32 "
   ]
  },
  {
   "cell_type": "code",
   "execution_count": null,
   "metadata": {},
   "outputs": [
    {
     "name": "stdout",
     "output_type": "stream",
     "text": [
      "El equivalente en grados Fahrenheit es 72.68\n"
     ]
    }
   ],
   "source": [
    "C = input('Introduzca grados celsius: ')\n",
    "\n",
    "F = float(C) * (9/5) + 32\n",
    "\n",
    "print(\"El equivalente en grados Fahrenheit es\", F)"
   ]
  },
  {
   "attachments": {},
   "cell_type": "markdown",
   "metadata": {},
   "source": [
    "## Ejercicio 6\n",
    "Comenta en la medida de lo posible el Ejercicio 5. Será suficiente con poner al menos un comentario de línea, y otro multilínea"
   ]
  },
  {
   "cell_type": "code",
   "execution_count": null,
   "metadata": {},
   "outputs": [],
   "source": [
    "\"\"\"\n",
    "Calculadora de grados Fahrenheit\n",
    "\"\"\"\n",
    "C = input('Introduzca grados celsius: ') # Input del usuario\n",
    "# Hay que covertir los tipos para que no haya problemas\n",
    "F = 32 + float(C) * float(9/5)\n",
    "\n",
    "\n",
    "print(\"El equivalente en grados Fahrenheit es\", F)"
   ]
  }
 ],
 "metadata": {
  "kernelspec": {
   "display_name": "Python 3",
   "language": "python",
   "name": "python3"
  },
  "language_info": {
   "codemirror_mode": {
    "name": "ipython",
    "version": 3
   },
   "file_extension": ".py",
   "mimetype": "text/x-python",
   "name": "python",
   "nbconvert_exporter": "python",
   "pygments_lexer": "ipython3",
   "version": "3.13.0"
  }
 },
 "nbformat": 4,
 "nbformat_minor": 4
}
