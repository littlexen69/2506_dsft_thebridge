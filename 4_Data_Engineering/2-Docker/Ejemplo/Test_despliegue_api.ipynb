{
 "cells": [
  {
   "cell_type": "markdown",
   "metadata": {},
   "source": [
    "# Test y Despliegue"
   ]
  },
  {
   "cell_type": "markdown",
   "metadata": {},
   "source": [
    "\n",
    "Partes de la aplicación FastAPI de la anterior tarea, que contiene una API con tres endpoints: /ingest, /predict, y /retrain. Sin embargo, hay problemas identificados en la aplicación que impiden que pase los tests provistos.\n",
    "\n",
    "Las tareas principales son:\n",
    "\n",
    "1. **Debugging de la Aplicación FastAPI:**\n",
    "La aplicación FastAPI tiene problemas que impiden que pase los tests proporcionados. Los tests cubren la funcionalidad de los tres endpoints, verificando su correcto funcionamiento y las respuestas esperadas. Tus tareas son:\n",
    "\n",
    "* Identificar y corregir los problemas en la aplicación para que pase los tests proporcionados.\n",
    "* Asegurar que la lógica de los endpoints cumpla con las especificaciones dadas.\n",
    "\n",
    "2. **Despliegue en Docker Hub:**\n",
    "Una vez que la aplicación pasa los tests y está funcionando correctamente de manera local, se requiere desplegar la aplicación en Docker Hub para facilitar su despliegue en diferentes equipos. Tus tareas son:\n",
    "\n",
    "* Crear un Dockerfile adecuado para la aplicación FastAPI.\n",
    "* Construir una imagen Docker de la aplicación.\n",
    "* Subir la imagen de la aplicación a Docker Hub.\n",
    "\n",
    "La aplicación debe pasar los tests proporcionados después de realizar correccione y debe ser desplegada en Docker Hub correctamente.\n",
    "Se evaluará en directo el resultado de vuestros despliegues.\n",
    "\n",
    "**Entrega**:\n",
    "La URL de Docker Hub donde se ha subido la imagen de la aplicación"
   ]
  },
  {
   "cell_type": "code",
   "execution_count": 36,
   "metadata": {},
   "outputs": [],
   "source": [
    "import requests"
   ]
  },
  {
   "cell_type": "code",
   "execution_count": 102,
   "metadata": {},
   "outputs": [
    {
     "name": "stdout",
     "output_type": "stream",
     "text": [
      "b'{\"prediction\":3901.0760737025485}'\n"
     ]
    }
   ],
   "source": [
    "url = 'http://localhost:8000/predict'  \n",
    "data = {'data': [[100, 100, 200]]} \n",
    "\n",
    "response = requests.get(url, json=data)\n",
    "print(response.content)"
   ]
  },
  {
   "cell_type": "code",
   "execution_count": 108,
   "metadata": {},
   "outputs": [
    {
     "name": "stdout",
     "output_type": "stream",
     "text": [
      "b'{\"prediction\":3133.8701205113703}'\n"
     ]
    }
   ],
   "source": [
    "url = 'http://localhost:8000/ingest'  \n",
    "data = {'data': [[100, 100, 200, 3000], [200, 230, 500, 4000]]}\n",
    "response = requests.post(url, json=data)\n",
    "url = 'http://localhost:8000/retrain'  \n",
    "response = requests.post(url)\n",
    "url = 'http://localhost:8000/predict'  \n",
    "data = {'data': [[100, 100, 200]]} \n",
    "response = requests.get(url, json=data)\n",
    "print(response.content)"
   ]
  }
 ],
 "metadata": {
  "kernelspec": {
   "display_name": "Python 3",
   "language": "python",
   "name": "python3"
  },
  "language_info": {
   "codemirror_mode": {
    "name": "ipython",
    "version": 3
   },
   "file_extension": ".py",
   "mimetype": "text/x-python",
   "name": "python",
   "nbconvert_exporter": "python",
   "pygments_lexer": "ipython3",
   "version": "3.11.3"
  }
 },
 "nbformat": 4,
 "nbformat_minor": 2
}
