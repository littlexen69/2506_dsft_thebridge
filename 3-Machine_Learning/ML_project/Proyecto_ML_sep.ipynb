{
 "cells": [
  {
   "attachments": {},
   "cell_type": "markdown",
   "metadata": {},
   "source": [
    "# Proyecto Machine Learning\n",
    "Para el módulo del bootcamp de Data Science tendrás que desarrollar un modelo de machine learning. Este proyecto tiene como objetivo principal practicar y demostrar competencias adquiridas durante el curso para aplicarlos en un proyecto práctico de aprendizaje automático.\n",
    "\n",
    "* **Miembros**: El proyecto es individual\n",
    "* **Datos**: datasets de plataformas (Kaggle, INE,..), Apis o Webscraping un tema que te interese. El volumen de datos no puede ser inferior a **1000 registros x 10 campos**.\n",
    "* **Deadlines**: \n",
    "\n",
    "    *  **1. Miércoles 30 de julio** se presentará a la clase el tema de tu proyecto (máx 5 mins). Para ello deberás mostrar las fuentes y datasets con las variables predictoras y la variable objetivo definida.\n",
    "    * **2. Miércoles 3 de septiembre** Entrega fina del repositorio en Github con el código y el modelo final. Mostrar una demo en streamlit de la solución. 70% Negocio 30% Técnico (NO código sino métricas, modelos, performance, Feature engineering...) (Máx 15 min).\n",
    "\n",
    "* **Obligatorio**: Repositorio, presentación, estructura y archivos solicitados más abajo, varios modelos diferentes, uso de pipeline y gridsearch, proceso de siempre..."
   ]
  },
  {
   "cell_type": "markdown",
   "metadata": {},
   "source": [
    "## Presentación del tema Miércoles 30 de julio"
   ]
  },
  {
   "cell_type": "markdown",
   "metadata": {},
   "source": [
    "PRESENTAR:\n",
    "\n",
    "- Título del proyecto\n",
    "- Tema del proyecto:\n",
    "- Objetivo:\n",
    "- Datasets: Cuáles y de dónde. Variable a predecir y variables predictoras."
   ]
  },
  {
   "attachments": {},
   "cell_type": "markdown",
   "metadata": {},
   "source": [
    "## Entregable\n",
    "El objetivo de este proyecto es desarrollar un modelo de machine learning, desde la obtención de datos hasta su despligue.\n",
    "\n",
    "La entrega será un **repositorio de github** con el desarrollo del proyecto: adquisición de datos, limpieza, EDA, feature engineering, modelado de datos, iteración de modelos, evaluación de modelos, interpretación de modelos, impacto en negocio.\n",
    "Habrá que aplicar conocimientos aprendidos hasta ahora, tenéis la oportunidad de **demostrar vuestra evolución y el trabajo realizado en durante el espacio de tiempo del que dispones**. No queremos datasets básicos ni trabajos hechos en una tarde.\n",
    "\n",
    "\n",
    "```\n",
    "|-- nombre_proyecto_final_ML\n",
    "    |-- data\n",
    "    |   |-- raw\n",
    "    |        |-- dataset.csv\n",
    "    |        |-- ...\n",
    "    |   |-- processed\n",
    "    |   |-- train\n",
    "    |   |-- test\n",
    "    |\n",
    "    |-- notebooks\n",
    "    |   |-- 01_Fuentes.ipynb\n",
    "    |   |-- 02_LimpiezaEDA.ipynb\n",
    "    |   |-- 03_Entrenamiento_Evaluacion.ipynb\n",
    "    |   |-- ...\n",
    "    |\n",
    "    |-- src\n",
    "    |   |-- data_processing.py\n",
    "    |   |-- training.py\n",
    "    |   |-- evaluation.py\n",
    "    |   |-- ...\n",
    "    |\n",
    "    |-- models\n",
    "    |   |-- trained_model.pkl\n",
    "    |   |-- ...\n",
    "    |\n",
    "    |-- app_streamlit\n",
    "    |   |-- app.py\n",
    "    |   |-- requirements.txt\n",
    "    |   |-- ...\n",
    "    |\n",
    "    |-- docs\n",
    "    |   |-- negocio.ppt\n",
    "    |   |-- ds.ppt\n",
    "    |   |-- memoria.md\n",
    "    |   |-- ...\n",
    "    |\n",
    "    |\n",
    "    |-- README.md\n",
    "\n",
    "```\n",
    "\n",
    "\n"
   ]
  },
  {
   "attachments": {},
   "cell_type": "markdown",
   "metadata": {},
   "source": [
    "A continuación se detallan las carpetas y los requisitos de cada una:\n",
    "\n",
    "1. **data**: se almacenarán los datos utilizados en el proyecto. Se deben crear las siguientes subcarpetas:\n",
    "   - `raw`: Contiene los datos en su formato original, sin procesar.\n",
    "   - `processed`: Almacena los datos procesados después de realizar las transformaciones necesarias antes de utilizarlos para el modelo.\n",
    "   - `train`: Contiene los datos de entrenamiento utilizados para entrenar el modelo a partir de los datos procesados\n",
    "   - `test`: Almacena los datos de prueba utilizados para evaluar el modelo a partir de los datos procesados\n",
    "\n",
    "2. **notebooks**: se encuentran los archivos Jupyter Notebook que contienen el desarrollo del proyecto. Se deben nombrar y numerar adecuadamente según el orden de ejecución.\n",
    "   - `01_Fuentes.ipynb`: adquisición de datos y unión de las diferentes fuentes.\n",
    "   - `02_LimpiezaEDA.ipynb`: transformaciones y limpiezas, incluyendo el feature engineering, así como visualizaciones dentro de un análisis exploratiorio.\n",
    "   - `03_Entrenamiento_Evaluacion.ipynb`: entrenamiento de modelos (mínimo 5 modelos supervisados diferentes y al menos 1 no supervisado) junto con su hiperparametrización, así como evaluación de los modelos (métricas de evaluación, interpretación de variables,...).\n",
    "3. **src**: contiene los archivos fuente de Python que implementan las funcionalidades clave del proyecto. Los requisitos de los archivos son los siguientes:\n",
    "   - `data_processing.py`: código para procesar los datos de la carpeta `data/raw` y guardar los datos procesados en la carpeta `data/processed`.\n",
    "   - `training.py`: código para entrenar y guardar el modelo entrenado con el input de los datos de la carpeta `data/processed` y guardar los datasets de `data/train` y `data/test` utilizados en el entrenamiento.\n",
    "   - `evaluation.py`: código para evaluar el modelo utilizando los datos de prueba de la carpeta `data/test` y generar métricas de evaluación.\n",
    "\n",
    "4. **models**: se almacenarán los archivos relacionados con el modelo entrenado. Los requisitos son los siguientes:\n",
    "   - `trained_model_n.pkl`: modelos entrenados y guardados en formato pickle, siendo n un identificador para cada modelo.\n",
    "   - `final_model.pkl`: modelo final guardado en formato pickle.\n",
    "\n",
    "5. **app_streamlit**: contendrá los archivos necesarios para el despliegue del modelo en Streamlit u otra plataforma similar. Los requisitos son los siguientes:\n",
    "\n",
    "   - `app.py`: código para la aplicación web que utiliza el modelo entrenado final(Streamlit).\n",
    "   - `requirements.txt`: especifica las dependencias del proyecto para poder ejecutar la aplicación.\n",
    "\n",
    "5. **docs**: contendrá la documentación adicional relacionada con el proyecto, como las dos presentaciones u otros documentos relevantes como la memoria.\n",
    "\n",
    "6. **README**: portada de tu proyecto."
   ]
  },
  {
   "attachments": {},
   "cell_type": "markdown",
   "metadata": {},
   "source": [
    "## **Estructura de la Presentación Final – Modelo de Machine Learning**\n",
    "\n",
    "### 1. **Introducción y Contextualización del Problema (Negocio + Técnica breve)**\n",
    "\n",
    "* Explica brevemente **qué problema resuelve el modelo** y **por qué es relevante** para el negocio.\n",
    "* Usa ejemplos prácticos o analogías para ilustrar el impacto.\n",
    "* Introduce de forma clara el **conjunto de datos utilizado**, con foco en **fuentes, variables clave** y características generales (sin tecnicismos profundos).\n",
    "* Define los **objetivos de negocio** perseguidos (e.g. reducir costos, mejorar eficiencia, detectar riesgos, etc.).\n",
    "\n",
    "---\n",
    "\n",
    "### 2. **Valor del Modelo y Aplicaciones Prácticas (Negocio)**\n",
    "\n",
    "* Describe **cómo el modelo aporta valor al negocio**: decisiones más informadas, automatización, reducción de errores, aumento de ingresos, etc.\n",
    "* Ejemplifica con **casos de uso reales o potenciales**: cómo un usuario lo usaría en su día a día.\n",
    "* Conecta con los **objetivos estratégicos de la empresa** y explica cómo este proyecto los potencia.\n",
    "\n",
    "---\n",
    "\n",
    "### 3. **Metodología y Desarrollo del Modelo (Técnico)**\n",
    "\n",
    "* Expón de forma breve el **enfoque de modelado**: técnicas utilizadas (ej. XGBoost, regresión, etc.), tipos de variables seleccionadas y lógica detrás del feature engineering.\n",
    "* Menciona los principales **desafíos técnicos** enfrentados y cómo se resolvieron (datos faltantes, desequilibrio, multicolinealidad, etc.).\n",
    "* No entres en detalles de código ni hiperparámetros, pero sí explica qué decisiones metodológicas fueron clave.\n",
    "\n",
    "---\n",
    "\n",
    "### 4. **Resultados, Métricas y Visualización (Negocio + Técnica)**\n",
    "\n",
    "* Presenta las **métricas principales de performance del modelo** (ej. accuracy, precision, recall, ROC AUC), explicadas en lenguaje comprensible.\n",
    "* Muestra las **variables más relevantes** y su interpretación de negocio (por qué son importantes).\n",
    "* Utiliza gráficos simples, tablas y visualizaciones intuitivas.\n",
    "* Muestra cómo estos resultados cumplen con los **objetivos iniciales** y qué insights aporta el modelo.\n",
    "\n",
    "---\n",
    "\n",
    "### 5. **Demo en Streamlit (Negocio + Técnica aplicada)**\n",
    "\n",
    "* Haz una **demostración funcional del modelo** en una interfaz sencilla (Streamlit), simulando cómo lo usaría un usuario no técnico.\n",
    "* Ilustra un **caso de uso real**, resaltando cómo el modelo toma decisiones y cómo se interpreta el output.\n",
    "* Muestra que la solución es **intuitiva, escalable e integrable**.\n",
    "\n",
    "---\n",
    "\n",
    "### 6. **Limitaciones, Escalabilidad y Próximos Pasos (Negocio + Técnica)**\n",
    "\n",
    "* Menciona de forma honesta y clara las **limitaciones actuales del modelo** (ej. datos limitados, sesgos, etc.).\n",
    "* Habla sobre su **escalabilidad** y posibles mejoras futuras: nuevos datos, ajustes, nuevas funciones.\n",
    "* Comenta sobre la **factibilidad de implementación**, **costos estimados** y el **retorno esperado (ROI)**.\n",
    "* Opcional: incluye consideraciones éticas o de explicabilidad si aplica."
   ]
  },
  {
   "cell_type": "markdown",
   "metadata": {},
   "source": [
    "## Pasos del proyecto\n",
    "1. ¿Podemos dar solución a un problema con datos? Elige un tema.\n",
    "1. Busca y consigue los datos. Vuelta al anterior punto si nos quedamos sin ideas.\n",
    "1. Define tu problema de Machine Learning: clasificación/regresión, supervisado/ no supervisado, series temporales, imágenes, texto...\n",
    "1. Exploratorio: obtén todos los estadísticos y gráficos que necesites para entender bien tu dataset.\n",
    "1. Limpia los datos: duplicados, missings, outliers, columnas inútiles...\n",
    "1. Feature engineering: transformación y creación de nuevas variables.\n",
    "1. Prueba varios modelos. Itero tanto en nuevos conjuntos de datos, corrijo overfitting,\n",
    "1. Analiza los resultados mediante una métrica adecuada a tu problemática.\n",
    "1. Interpreta los resultados y comprende los outputs del modelo.\n",
    "1. Siguientes pasos. ¿Se podría seguir enriqueciendo el modelo con otras pruebas o con otros datos?"
   ]
  },
  {
   "attachments": {},
   "cell_type": "markdown",
   "metadata": {},
   "source": [
    "### Cuenta con los profesores para cualquier duda o apoyo que necesites. Ánimo con ello!"
   ]
  }
 ],
 "metadata": {
  "kernelspec": {
   "display_name": "Python 3.7.4 64-bit",
   "language": "python",
   "name": "python3"
  },
  "language_info": {
   "codemirror_mode": {
    "name": "ipython",
    "version": 3
   },
   "file_extension": ".py",
   "mimetype": "text/x-python",
   "name": "python",
   "nbconvert_exporter": "python",
   "pygments_lexer": "ipython3",
   "version": "3.7.4"
  },
  "vscode": {
   "interpreter": {
    "hash": "90139cb9a825bf3d63f6f6704e828dbd1ff7edbd4d0c6e906a71235d6efc74af"
   }
  }
 },
 "nbformat": 4,
 "nbformat_minor": 4
}
