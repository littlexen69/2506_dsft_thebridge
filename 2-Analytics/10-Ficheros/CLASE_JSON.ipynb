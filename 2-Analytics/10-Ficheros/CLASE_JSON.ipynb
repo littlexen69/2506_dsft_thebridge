{
 "cells": [
  {
   "cell_type": "markdown",
   "metadata": {},
   "source": [
    "# Lectura de JSON\n",
    "\n",
    "```Python\n",
    "url=\"https://api.github.com/users/hadley/orgs\"\n",
    "```\n",
    "\n",
    "[Página de formateo de JSON](https://jsonformatter.curiousconcept.com/)"
   ]
  },
  {
   "cell_type": "markdown",
   "metadata": {},
   "source": [
    "#### Lectura con pandas"
   ]
  },
  {
   "cell_type": "code",
   "execution_count": 10,
   "metadata": {
    "tags": []
   },
   "outputs": [
    {
     "data": {
      "text/html": [
       "<div>\n",
       "<style scoped>\n",
       "    .dataframe tbody tr th:only-of-type {\n",
       "        vertical-align: middle;\n",
       "    }\n",
       "\n",
       "    .dataframe tbody tr th {\n",
       "        vertical-align: top;\n",
       "    }\n",
       "\n",
       "    .dataframe thead th {\n",
       "        text-align: right;\n",
       "    }\n",
       "</style>\n",
       "<table border=\"1\" class=\"dataframe\">\n",
       "  <thead>\n",
       "    <tr style=\"text-align: right;\">\n",
       "      <th></th>\n",
       "      <th>login</th>\n",
       "      <th>id</th>\n",
       "      <th>node_id</th>\n",
       "      <th>url</th>\n",
       "      <th>repos_url</th>\n",
       "      <th>events_url</th>\n",
       "      <th>hooks_url</th>\n",
       "      <th>issues_url</th>\n",
       "      <th>members_url</th>\n",
       "      <th>public_members_url</th>\n",
       "      <th>avatar_url</th>\n",
       "      <th>description</th>\n",
       "    </tr>\n",
       "  </thead>\n",
       "  <tbody>\n",
       "    <tr>\n",
       "      <th>0</th>\n",
       "      <td>ggobi</td>\n",
       "      <td>423638</td>\n",
       "      <td>MDEyOk9yZ2FuaXphdGlvbjQyMzYzOA==</td>\n",
       "      <td>https://api.github.com/orgs/ggobi</td>\n",
       "      <td>https://api.github.com/orgs/ggobi/repos</td>\n",
       "      <td>https://api.github.com/orgs/ggobi/events</td>\n",
       "      <td>https://api.github.com/orgs/ggobi/hooks</td>\n",
       "      <td>https://api.github.com/orgs/ggobi/issues</td>\n",
       "      <td>https://api.github.com/orgs/ggobi/members{/mem...</td>\n",
       "      <td>https://api.github.com/orgs/ggobi/public_membe...</td>\n",
       "      <td>https://avatars.githubusercontent.com/u/423638...</td>\n",
       "      <td></td>\n",
       "    </tr>\n",
       "    <tr>\n",
       "      <th>1</th>\n",
       "      <td>rstudio</td>\n",
       "      <td>513560</td>\n",
       "      <td>MDEyOk9yZ2FuaXphdGlvbjUxMzU2MA==</td>\n",
       "      <td>https://api.github.com/orgs/rstudio</td>\n",
       "      <td>https://api.github.com/orgs/rstudio/repos</td>\n",
       "      <td>https://api.github.com/orgs/rstudio/events</td>\n",
       "      <td>https://api.github.com/orgs/rstudio/hooks</td>\n",
       "      <td>https://api.github.com/orgs/rstudio/issues</td>\n",
       "      <td>https://api.github.com/orgs/rstudio/members{/m...</td>\n",
       "      <td>https://api.github.com/orgs/rstudio/public_mem...</td>\n",
       "      <td>https://avatars.githubusercontent.com/u/513560...</td>\n",
       "      <td></td>\n",
       "    </tr>\n",
       "    <tr>\n",
       "      <th>2</th>\n",
       "      <td>rstats</td>\n",
       "      <td>722735</td>\n",
       "      <td>MDEyOk9yZ2FuaXphdGlvbjcyMjczNQ==</td>\n",
       "      <td>https://api.github.com/orgs/rstats</td>\n",
       "      <td>https://api.github.com/orgs/rstats/repos</td>\n",
       "      <td>https://api.github.com/orgs/rstats/events</td>\n",
       "      <td>https://api.github.com/orgs/rstats/hooks</td>\n",
       "      <td>https://api.github.com/orgs/rstats/issues</td>\n",
       "      <td>https://api.github.com/orgs/rstats/members{/me...</td>\n",
       "      <td>https://api.github.com/orgs/rstats/public_memb...</td>\n",
       "      <td>https://avatars.githubusercontent.com/u/722735...</td>\n",
       "      <td>None</td>\n",
       "    </tr>\n",
       "    <tr>\n",
       "      <th>3</th>\n",
       "      <td>ropensci</td>\n",
       "      <td>1200269</td>\n",
       "      <td>MDEyOk9yZ2FuaXphdGlvbjEyMDAyNjk=</td>\n",
       "      <td>https://api.github.com/orgs/ropensci</td>\n",
       "      <td>https://api.github.com/orgs/ropensci/repos</td>\n",
       "      <td>https://api.github.com/orgs/ropensci/events</td>\n",
       "      <td>https://api.github.com/orgs/ropensci/hooks</td>\n",
       "      <td>https://api.github.com/orgs/ropensci/issues</td>\n",
       "      <td>https://api.github.com/orgs/ropensci/members{/...</td>\n",
       "      <td>https://api.github.com/orgs/ropensci/public_me...</td>\n",
       "      <td>https://avatars.githubusercontent.com/u/120026...</td>\n",
       "      <td>Tools and R Packages for Open Science</td>\n",
       "    </tr>\n",
       "    <tr>\n",
       "      <th>4</th>\n",
       "      <td>rjournal</td>\n",
       "      <td>3330561</td>\n",
       "      <td>MDEyOk9yZ2FuaXphdGlvbjMzMzA1NjE=</td>\n",
       "      <td>https://api.github.com/orgs/rjournal</td>\n",
       "      <td>https://api.github.com/orgs/rjournal/repos</td>\n",
       "      <td>https://api.github.com/orgs/rjournal/events</td>\n",
       "      <td>https://api.github.com/orgs/rjournal/hooks</td>\n",
       "      <td>https://api.github.com/orgs/rjournal/issues</td>\n",
       "      <td>https://api.github.com/orgs/rjournal/members{/...</td>\n",
       "      <td>https://api.github.com/orgs/rjournal/public_me...</td>\n",
       "      <td>https://avatars.githubusercontent.com/u/333056...</td>\n",
       "      <td>None</td>\n",
       "    </tr>\n",
       "  </tbody>\n",
       "</table>\n",
       "</div>"
      ],
      "text/plain": [
       "      login       id                           node_id  \\\n",
       "0     ggobi   423638  MDEyOk9yZ2FuaXphdGlvbjQyMzYzOA==   \n",
       "1   rstudio   513560  MDEyOk9yZ2FuaXphdGlvbjUxMzU2MA==   \n",
       "2    rstats   722735  MDEyOk9yZ2FuaXphdGlvbjcyMjczNQ==   \n",
       "3  ropensci  1200269  MDEyOk9yZ2FuaXphdGlvbjEyMDAyNjk=   \n",
       "4  rjournal  3330561  MDEyOk9yZ2FuaXphdGlvbjMzMzA1NjE=   \n",
       "\n",
       "                                    url  \\\n",
       "0     https://api.github.com/orgs/ggobi   \n",
       "1   https://api.github.com/orgs/rstudio   \n",
       "2    https://api.github.com/orgs/rstats   \n",
       "3  https://api.github.com/orgs/ropensci   \n",
       "4  https://api.github.com/orgs/rjournal   \n",
       "\n",
       "                                    repos_url  \\\n",
       "0     https://api.github.com/orgs/ggobi/repos   \n",
       "1   https://api.github.com/orgs/rstudio/repos   \n",
       "2    https://api.github.com/orgs/rstats/repos   \n",
       "3  https://api.github.com/orgs/ropensci/repos   \n",
       "4  https://api.github.com/orgs/rjournal/repos   \n",
       "\n",
       "                                    events_url  \\\n",
       "0     https://api.github.com/orgs/ggobi/events   \n",
       "1   https://api.github.com/orgs/rstudio/events   \n",
       "2    https://api.github.com/orgs/rstats/events   \n",
       "3  https://api.github.com/orgs/ropensci/events   \n",
       "4  https://api.github.com/orgs/rjournal/events   \n",
       "\n",
       "                                    hooks_url  \\\n",
       "0     https://api.github.com/orgs/ggobi/hooks   \n",
       "1   https://api.github.com/orgs/rstudio/hooks   \n",
       "2    https://api.github.com/orgs/rstats/hooks   \n",
       "3  https://api.github.com/orgs/ropensci/hooks   \n",
       "4  https://api.github.com/orgs/rjournal/hooks   \n",
       "\n",
       "                                    issues_url  \\\n",
       "0     https://api.github.com/orgs/ggobi/issues   \n",
       "1   https://api.github.com/orgs/rstudio/issues   \n",
       "2    https://api.github.com/orgs/rstats/issues   \n",
       "3  https://api.github.com/orgs/ropensci/issues   \n",
       "4  https://api.github.com/orgs/rjournal/issues   \n",
       "\n",
       "                                         members_url  \\\n",
       "0  https://api.github.com/orgs/ggobi/members{/mem...   \n",
       "1  https://api.github.com/orgs/rstudio/members{/m...   \n",
       "2  https://api.github.com/orgs/rstats/members{/me...   \n",
       "3  https://api.github.com/orgs/ropensci/members{/...   \n",
       "4  https://api.github.com/orgs/rjournal/members{/...   \n",
       "\n",
       "                                  public_members_url  \\\n",
       "0  https://api.github.com/orgs/ggobi/public_membe...   \n",
       "1  https://api.github.com/orgs/rstudio/public_mem...   \n",
       "2  https://api.github.com/orgs/rstats/public_memb...   \n",
       "3  https://api.github.com/orgs/ropensci/public_me...   \n",
       "4  https://api.github.com/orgs/rjournal/public_me...   \n",
       "\n",
       "                                          avatar_url  \\\n",
       "0  https://avatars.githubusercontent.com/u/423638...   \n",
       "1  https://avatars.githubusercontent.com/u/513560...   \n",
       "2  https://avatars.githubusercontent.com/u/722735...   \n",
       "3  https://avatars.githubusercontent.com/u/120026...   \n",
       "4  https://avatars.githubusercontent.com/u/333056...   \n",
       "\n",
       "                             description  \n",
       "0                                         \n",
       "1                                         \n",
       "2                                   None  \n",
       "3  Tools and R Packages for Open Science  \n",
       "4                                   None  "
      ]
     },
     "execution_count": 10,
     "metadata": {},
     "output_type": "execute_result"
    }
   ],
   "source": [
    "import pandas as pd\n",
    "url=\"https://api.github.com/users/hadley/orgs\"\n",
    "pd.read_json(url).head()"
   ]
  },
  {
   "cell_type": "markdown",
   "metadata": {},
   "source": [
    "#### Lectura local"
   ]
  },
  {
   "cell_type": "code",
   "execution_count": 11,
   "metadata": {},
   "outputs": [],
   "source": [
    "import json\n",
    "with open('main.json') as f:\n",
    "    data = json.load(f)"
   ]
  },
  {
   "cell_type": "markdown",
   "metadata": {},
   "source": [
    "#### Lectura con requests"
   ]
  },
  {
   "cell_type": "code",
   "execution_count": 12,
   "metadata": {
    "tags": []
   },
   "outputs": [],
   "source": [
    "import json\n",
    "import requests\n",
    "\n",
    "response = requests.get(url)\n",
    "todos = json.loads(response.text)"
   ]
  },
  {
   "cell_type": "code",
   "execution_count": 13,
   "metadata": {
    "tags": []
   },
   "outputs": [
    {
     "data": {
      "text/plain": [
       "[{'login': 'ggobi',\n",
       "  'id': 423638,\n",
       "  'node_id': 'MDEyOk9yZ2FuaXphdGlvbjQyMzYzOA==',\n",
       "  'url': 'https://api.github.com/orgs/ggobi',\n",
       "  'repos_url': 'https://api.github.com/orgs/ggobi/repos',\n",
       "  'events_url': 'https://api.github.com/orgs/ggobi/events',\n",
       "  'hooks_url': 'https://api.github.com/orgs/ggobi/hooks',\n",
       "  'issues_url': 'https://api.github.com/orgs/ggobi/issues',\n",
       "  'members_url': 'https://api.github.com/orgs/ggobi/members{/member}',\n",
       "  'public_members_url': 'https://api.github.com/orgs/ggobi/public_members{/member}',\n",
       "  'avatar_url': 'https://avatars.githubusercontent.com/u/423638?v=4',\n",
       "  'description': ''},\n",
       " {'login': 'rstudio',\n",
       "  'id': 513560,\n",
       "  'node_id': 'MDEyOk9yZ2FuaXphdGlvbjUxMzU2MA==',\n",
       "  'url': 'https://api.github.com/orgs/rstudio',\n",
       "  'repos_url': 'https://api.github.com/orgs/rstudio/repos',\n",
       "  'events_url': 'https://api.github.com/orgs/rstudio/events',\n",
       "  'hooks_url': 'https://api.github.com/orgs/rstudio/hooks',\n",
       "  'issues_url': 'https://api.github.com/orgs/rstudio/issues',\n",
       "  'members_url': 'https://api.github.com/orgs/rstudio/members{/member}',\n",
       "  'public_members_url': 'https://api.github.com/orgs/rstudio/public_members{/member}',\n",
       "  'avatar_url': 'https://avatars.githubusercontent.com/u/513560?v=4',\n",
       "  'description': ''},\n",
       " {'login': 'rstats',\n",
       "  'id': 722735,\n",
       "  'node_id': 'MDEyOk9yZ2FuaXphdGlvbjcyMjczNQ==',\n",
       "  'url': 'https://api.github.com/orgs/rstats',\n",
       "  'repos_url': 'https://api.github.com/orgs/rstats/repos',\n",
       "  'events_url': 'https://api.github.com/orgs/rstats/events',\n",
       "  'hooks_url': 'https://api.github.com/orgs/rstats/hooks',\n",
       "  'issues_url': 'https://api.github.com/orgs/rstats/issues',\n",
       "  'members_url': 'https://api.github.com/orgs/rstats/members{/member}',\n",
       "  'public_members_url': 'https://api.github.com/orgs/rstats/public_members{/member}',\n",
       "  'avatar_url': 'https://avatars.githubusercontent.com/u/722735?v=4',\n",
       "  'description': None},\n",
       " {'login': 'ropensci',\n",
       "  'id': 1200269,\n",
       "  'node_id': 'MDEyOk9yZ2FuaXphdGlvbjEyMDAyNjk=',\n",
       "  'url': 'https://api.github.com/orgs/ropensci',\n",
       "  'repos_url': 'https://api.github.com/orgs/ropensci/repos',\n",
       "  'events_url': 'https://api.github.com/orgs/ropensci/events',\n",
       "  'hooks_url': 'https://api.github.com/orgs/ropensci/hooks',\n",
       "  'issues_url': 'https://api.github.com/orgs/ropensci/issues',\n",
       "  'members_url': 'https://api.github.com/orgs/ropensci/members{/member}',\n",
       "  'public_members_url': 'https://api.github.com/orgs/ropensci/public_members{/member}',\n",
       "  'avatar_url': 'https://avatars.githubusercontent.com/u/1200269?v=4',\n",
       "  'description': 'Tools and R Packages for Open Science'},\n",
       " {'login': 'rjournal',\n",
       "  'id': 3330561,\n",
       "  'node_id': 'MDEyOk9yZ2FuaXphdGlvbjMzMzA1NjE=',\n",
       "  'url': 'https://api.github.com/orgs/rjournal',\n",
       "  'repos_url': 'https://api.github.com/orgs/rjournal/repos',\n",
       "  'events_url': 'https://api.github.com/orgs/rjournal/events',\n",
       "  'hooks_url': 'https://api.github.com/orgs/rjournal/hooks',\n",
       "  'issues_url': 'https://api.github.com/orgs/rjournal/issues',\n",
       "  'members_url': 'https://api.github.com/orgs/rjournal/members{/member}',\n",
       "  'public_members_url': 'https://api.github.com/orgs/rjournal/public_members{/member}',\n",
       "  'avatar_url': 'https://avatars.githubusercontent.com/u/3330561?v=4',\n",
       "  'description': None},\n",
       " {'login': 'r-dbi',\n",
       "  'id': 5695665,\n",
       "  'node_id': 'MDEyOk9yZ2FuaXphdGlvbjU2OTU2NjU=',\n",
       "  'url': 'https://api.github.com/orgs/r-dbi',\n",
       "  'repos_url': 'https://api.github.com/orgs/r-dbi/repos',\n",
       "  'events_url': 'https://api.github.com/orgs/r-dbi/events',\n",
       "  'hooks_url': 'https://api.github.com/orgs/r-dbi/hooks',\n",
       "  'issues_url': 'https://api.github.com/orgs/r-dbi/issues',\n",
       "  'members_url': 'https://api.github.com/orgs/r-dbi/members{/member}',\n",
       "  'public_members_url': 'https://api.github.com/orgs/r-dbi/public_members{/member}',\n",
       "  'avatar_url': 'https://avatars.githubusercontent.com/u/5695665?v=4',\n",
       "  'description': 'R + databases'},\n",
       " {'login': 'RConsortium',\n",
       "  'id': 15366137,\n",
       "  'node_id': 'MDEyOk9yZ2FuaXphdGlvbjE1MzY2MTM3',\n",
       "  'url': 'https://api.github.com/orgs/RConsortium',\n",
       "  'repos_url': 'https://api.github.com/orgs/RConsortium/repos',\n",
       "  'events_url': 'https://api.github.com/orgs/RConsortium/events',\n",
       "  'hooks_url': 'https://api.github.com/orgs/RConsortium/hooks',\n",
       "  'issues_url': 'https://api.github.com/orgs/RConsortium/issues',\n",
       "  'members_url': 'https://api.github.com/orgs/RConsortium/members{/member}',\n",
       "  'public_members_url': 'https://api.github.com/orgs/RConsortium/public_members{/member}',\n",
       "  'avatar_url': 'https://avatars.githubusercontent.com/u/15366137?v=4',\n",
       "  'description': 'The R Consortium, Inc was established to provide support to the R Foundation and R Community, using maintaining and distributing R software.'},\n",
       " {'login': 'tidyverse',\n",
       "  'id': 22032646,\n",
       "  'node_id': 'MDEyOk9yZ2FuaXphdGlvbjIyMDMyNjQ2',\n",
       "  'url': 'https://api.github.com/orgs/tidyverse',\n",
       "  'repos_url': 'https://api.github.com/orgs/tidyverse/repos',\n",
       "  'events_url': 'https://api.github.com/orgs/tidyverse/events',\n",
       "  'hooks_url': 'https://api.github.com/orgs/tidyverse/hooks',\n",
       "  'issues_url': 'https://api.github.com/orgs/tidyverse/issues',\n",
       "  'members_url': 'https://api.github.com/orgs/tidyverse/members{/member}',\n",
       "  'public_members_url': 'https://api.github.com/orgs/tidyverse/public_members{/member}',\n",
       "  'avatar_url': 'https://avatars.githubusercontent.com/u/22032646?v=4',\n",
       "  'description': 'The tidyverse is a collection of R packages that share common principles and are designed to work together seamlessly'},\n",
       " {'login': 'r-lib',\n",
       "  'id': 22618716,\n",
       "  'node_id': 'MDEyOk9yZ2FuaXphdGlvbjIyNjE4NzE2',\n",
       "  'url': 'https://api.github.com/orgs/r-lib',\n",
       "  'repos_url': 'https://api.github.com/orgs/r-lib/repos',\n",
       "  'events_url': 'https://api.github.com/orgs/r-lib/events',\n",
       "  'hooks_url': 'https://api.github.com/orgs/r-lib/hooks',\n",
       "  'issues_url': 'https://api.github.com/orgs/r-lib/issues',\n",
       "  'members_url': 'https://api.github.com/orgs/r-lib/members{/member}',\n",
       "  'public_members_url': 'https://api.github.com/orgs/r-lib/public_members{/member}',\n",
       "  'avatar_url': 'https://avatars.githubusercontent.com/u/22618716?v=4',\n",
       "  'description': ''},\n",
       " {'login': 'rstudio-education',\n",
       "  'id': 34165516,\n",
       "  'node_id': 'MDEyOk9yZ2FuaXphdGlvbjM0MTY1NTE2',\n",
       "  'url': 'https://api.github.com/orgs/rstudio-education',\n",
       "  'repos_url': 'https://api.github.com/orgs/rstudio-education/repos',\n",
       "  'events_url': 'https://api.github.com/orgs/rstudio-education/events',\n",
       "  'hooks_url': 'https://api.github.com/orgs/rstudio-education/hooks',\n",
       "  'issues_url': 'https://api.github.com/orgs/rstudio-education/issues',\n",
       "  'members_url': 'https://api.github.com/orgs/rstudio-education/members{/member}',\n",
       "  'public_members_url': 'https://api.github.com/orgs/rstudio-education/public_members{/member}',\n",
       "  'avatar_url': 'https://avatars.githubusercontent.com/u/34165516?v=4',\n",
       "  'description': ''}]"
      ]
     },
     "execution_count": 13,
     "metadata": {},
     "output_type": "execute_result"
    }
   ],
   "source": [
    "todos"
   ]
  },
  {
   "cell_type": "markdown",
   "metadata": {},
   "source": [
    "Vemos qué tipo de datos es esto"
   ]
  },
  {
   "cell_type": "code",
   "execution_count": 14,
   "metadata": {},
   "outputs": [
    {
     "name": "stdout",
     "output_type": "stream",
     "text": [
      "<class 'list'>\n"
     ]
    },
    {
     "data": {
      "text/plain": [
       "10"
      ]
     },
     "execution_count": 14,
     "metadata": {},
     "output_type": "execute_result"
    }
   ],
   "source": [
    "print(type(todos))\n",
    "len(todos)"
   ]
  },
  {
   "cell_type": "markdown",
   "metadata": {},
   "source": [
    "Es un iterable, por lo que podremos recorrerlo mediante un for, y de esta manera ver qué hay dentro"
   ]
  },
  {
   "cell_type": "code",
   "execution_count": 15,
   "metadata": {
    "tags": []
   },
   "outputs": [
    {
     "name": "stdout",
     "output_type": "stream",
     "text": [
      "dict_keys(['login', 'id', 'node_id', 'url', 'repos_url', 'events_url', 'hooks_url', 'issues_url', 'members_url', 'public_members_url', 'avatar_url', 'description'])\n",
      "dict_keys(['login', 'id', 'node_id', 'url', 'repos_url', 'events_url', 'hooks_url', 'issues_url', 'members_url', 'public_members_url', 'avatar_url', 'description'])\n",
      "dict_keys(['login', 'id', 'node_id', 'url', 'repos_url', 'events_url', 'hooks_url', 'issues_url', 'members_url', 'public_members_url', 'avatar_url', 'description'])\n",
      "dict_keys(['login', 'id', 'node_id', 'url', 'repos_url', 'events_url', 'hooks_url', 'issues_url', 'members_url', 'public_members_url', 'avatar_url', 'description'])\n",
      "dict_keys(['login', 'id', 'node_id', 'url', 'repos_url', 'events_url', 'hooks_url', 'issues_url', 'members_url', 'public_members_url', 'avatar_url', 'description'])\n",
      "dict_keys(['login', 'id', 'node_id', 'url', 'repos_url', 'events_url', 'hooks_url', 'issues_url', 'members_url', 'public_members_url', 'avatar_url', 'description'])\n",
      "dict_keys(['login', 'id', 'node_id', 'url', 'repos_url', 'events_url', 'hooks_url', 'issues_url', 'members_url', 'public_members_url', 'avatar_url', 'description'])\n",
      "dict_keys(['login', 'id', 'node_id', 'url', 'repos_url', 'events_url', 'hooks_url', 'issues_url', 'members_url', 'public_members_url', 'avatar_url', 'description'])\n",
      "dict_keys(['login', 'id', 'node_id', 'url', 'repos_url', 'events_url', 'hooks_url', 'issues_url', 'members_url', 'public_members_url', 'avatar_url', 'description'])\n",
      "dict_keys(['login', 'id', 'node_id', 'url', 'repos_url', 'events_url', 'hooks_url', 'issues_url', 'members_url', 'public_members_url', 'avatar_url', 'description'])\n"
     ]
    }
   ],
   "source": [
    "for i in todos:\n",
    "    print(i.keys())"
   ]
  },
  {
   "cell_type": "markdown",
   "metadata": {},
   "source": [
    "#### Obtención de datos"
   ]
  },
  {
   "cell_type": "markdown",
   "metadata": {},
   "source": [
    "Primero vamos a probar a sacar todos los url."
   ]
  },
  {
   "cell_type": "code",
   "execution_count": 17,
   "metadata": {
    "tags": []
   },
   "outputs": [
    {
     "data": {
      "text/plain": [
       "{'url': ['https://api.github.com/orgs/ggobi',\n",
       "  'https://api.github.com/orgs/rstudio',\n",
       "  'https://api.github.com/orgs/rstats',\n",
       "  'https://api.github.com/orgs/ropensci',\n",
       "  'https://api.github.com/orgs/rjournal',\n",
       "  'https://api.github.com/orgs/r-dbi',\n",
       "  'https://api.github.com/orgs/RConsortium',\n",
       "  'https://api.github.com/orgs/tidyverse',\n",
       "  'https://api.github.com/orgs/r-lib',\n",
       "  'https://api.github.com/orgs/rstudio-education']}"
      ]
     },
     "execution_count": 17,
     "metadata": {},
     "output_type": "execute_result"
    }
   ],
   "source": [
    "datos = {'url': []}\n",
    "\n",
    "for i in todos:\n",
    "    nombre_url = i.get('url', 'NO URL')\n",
    "    \n",
    "    datos['url'].append(nombre_url)\n",
    "\n",
    "    \n",
    "datos"
   ]
  },
  {
   "cell_type": "markdown",
   "metadata": {},
   "source": [
    "Ahora obtendremos más info."
   ]
  },
  {
   "cell_type": "code",
   "execution_count": 18,
   "metadata": {
    "tags": []
   },
   "outputs": [
    {
     "data": {
      "text/html": [
       "<div>\n",
       "<style scoped>\n",
       "    .dataframe tbody tr th:only-of-type {\n",
       "        vertical-align: middle;\n",
       "    }\n",
       "\n",
       "    .dataframe tbody tr th {\n",
       "        vertical-align: top;\n",
       "    }\n",
       "\n",
       "    .dataframe thead th {\n",
       "        text-align: right;\n",
       "    }\n",
       "</style>\n",
       "<table border=\"1\" class=\"dataframe\">\n",
       "  <thead>\n",
       "    <tr style=\"text-align: right;\">\n",
       "      <th></th>\n",
       "      <th>login</th>\n",
       "      <th>url</th>\n",
       "      <th>id</th>\n",
       "    </tr>\n",
       "  </thead>\n",
       "  <tbody>\n",
       "    <tr>\n",
       "      <th>0</th>\n",
       "      <td>ggobi</td>\n",
       "      <td>https://api.github.com/orgs/ggobi</td>\n",
       "      <td>423638</td>\n",
       "    </tr>\n",
       "    <tr>\n",
       "      <th>1</th>\n",
       "      <td>rstudio</td>\n",
       "      <td>https://api.github.com/orgs/rstudio</td>\n",
       "      <td>513560</td>\n",
       "    </tr>\n",
       "    <tr>\n",
       "      <th>2</th>\n",
       "      <td>rstats</td>\n",
       "      <td>https://api.github.com/orgs/rstats</td>\n",
       "      <td>722735</td>\n",
       "    </tr>\n",
       "    <tr>\n",
       "      <th>3</th>\n",
       "      <td>ropensci</td>\n",
       "      <td>https://api.github.com/orgs/ropensci</td>\n",
       "      <td>1200269</td>\n",
       "    </tr>\n",
       "    <tr>\n",
       "      <th>4</th>\n",
       "      <td>rjournal</td>\n",
       "      <td>https://api.github.com/orgs/rjournal</td>\n",
       "      <td>3330561</td>\n",
       "    </tr>\n",
       "  </tbody>\n",
       "</table>\n",
       "</div>"
      ],
      "text/plain": [
       "      login                                   url       id\n",
       "0     ggobi     https://api.github.com/orgs/ggobi   423638\n",
       "1   rstudio   https://api.github.com/orgs/rstudio   513560\n",
       "2    rstats    https://api.github.com/orgs/rstats   722735\n",
       "3  ropensci  https://api.github.com/orgs/ropensci  1200269\n",
       "4  rjournal  https://api.github.com/orgs/rjournal  3330561"
      ]
     },
     "execution_count": 18,
     "metadata": {},
     "output_type": "execute_result"
    }
   ],
   "source": [
    "datos = {'login': [],\n",
    "        'url': [],\n",
    "        'id': []\n",
    "        }\n",
    "\n",
    "for i in todos:\n",
    "    nombre_login= i.get('login', 'NO LOGIN')\n",
    "    nombre_url = i.get('url', 'NO URL')\n",
    "    nombre_id = i.get('id', 'NO ID')\n",
    "    \n",
    "    datos['login'].append(nombre_login)\n",
    "    datos['url'].append(nombre_url)\n",
    "    datos['id'].append(nombre_id)\n",
    "    \n",
    "pd.DataFrame(datos).head()"
   ]
  }
 ],
 "metadata": {
  "kernelspec": {
   "display_name": "Python 3",
   "language": "python",
   "name": "python3"
  },
  "language_info": {
   "codemirror_mode": {
    "name": "ipython",
    "version": 3
   },
   "file_extension": ".py",
   "mimetype": "text/x-python",
   "name": "python",
   "nbconvert_exporter": "python",
   "pygments_lexer": "ipython3",
   "version": "3.13.0"
  }
 },
 "nbformat": 4,
 "nbformat_minor": 4
}
